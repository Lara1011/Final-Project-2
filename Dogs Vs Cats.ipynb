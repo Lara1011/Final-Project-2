{
 "cells": [
  {
   "cell_type": "code",
   "execution_count": 35,
   "metadata": {},
   "outputs": [],
   "source": [
    "import pandas as pd\n",
    "import numpy as np\n",
    "\n",
    "import os\n",
    "from PIL import Image\n",
    "import matplotlib.image as img\n",
    "\n",
    "import xgboost as xgb\n",
    "from xgboost import XGBClassifier\n",
    "from sklearn.model_selection import train_test_split\n",
    "from sklearn.metrics import accuracy_score"
   ]
  },
  {
   "cell_type": "markdown",
   "metadata": {},
   "source": [
    "Because we have the data as images, we need to convert them to dataframe, but first we create a dataframe filled with the images names .<br>\n",
    "In addition to that, we categorize the images to two categories: <br>\n",
    "**0** - Cat <br>\n",
    "**1** - Dog"
   ]
  },
  {
   "cell_type": "code",
   "execution_count": 3,
   "metadata": {},
   "outputs": [],
   "source": [
    "filenames = os.listdir(r\"C:\\Users\\USER\\OneDrive\\שולחן העבודה\\DogsVsCats\")\n",
    "categories = []\n",
    "for filename in filenames:\n",
    "    category = filename.split('.')[0]\n",
    "    if category == 'dog':\n",
    "        categories.append(1)\n",
    "    else:\n",
    "        categories.append(0)\n",
    "\n",
    "df = pd.DataFrame({\n",
    "    'filename': filenames,\n",
    "    'category': categories\n",
    "})"
   ]
  },
  {
   "cell_type": "code",
   "execution_count": 13,
   "metadata": {},
   "outputs": [
    {
     "data": {
      "text/html": [
       "<div>\n",
       "<style scoped>\n",
       "    .dataframe tbody tr th:only-of-type {\n",
       "        vertical-align: middle;\n",
       "    }\n",
       "\n",
       "    .dataframe tbody tr th {\n",
       "        vertical-align: top;\n",
       "    }\n",
       "\n",
       "    .dataframe thead th {\n",
       "        text-align: right;\n",
       "    }\n",
       "</style>\n",
       "<table border=\"1\" class=\"dataframe\">\n",
       "  <thead>\n",
       "    <tr style=\"text-align: right;\">\n",
       "      <th></th>\n",
       "      <th>filename</th>\n",
       "      <th>category</th>\n",
       "    </tr>\n",
       "  </thead>\n",
       "  <tbody>\n",
       "    <tr>\n",
       "      <th>0</th>\n",
       "      <td>cat.0.jpg</td>\n",
       "      <td>0</td>\n",
       "    </tr>\n",
       "    <tr>\n",
       "      <th>1</th>\n",
       "      <td>cat.1.jpg</td>\n",
       "      <td>0</td>\n",
       "    </tr>\n",
       "    <tr>\n",
       "      <th>2</th>\n",
       "      <td>cat.10.jpg</td>\n",
       "      <td>0</td>\n",
       "    </tr>\n",
       "    <tr>\n",
       "      <th>3</th>\n",
       "      <td>cat.100.jpg</td>\n",
       "      <td>0</td>\n",
       "    </tr>\n",
       "    <tr>\n",
       "      <th>4</th>\n",
       "      <td>cat.1000.jpg</td>\n",
       "      <td>0</td>\n",
       "    </tr>\n",
       "  </tbody>\n",
       "</table>\n",
       "</div>"
      ],
      "text/plain": [
       "       filename  category\n",
       "0     cat.0.jpg         0\n",
       "1     cat.1.jpg         0\n",
       "2    cat.10.jpg         0\n",
       "3   cat.100.jpg         0\n",
       "4  cat.1000.jpg         0"
      ]
     },
     "execution_count": 13,
     "metadata": {},
     "output_type": "execute_result"
    }
   ],
   "source": [
    "df.head()"
   ]
  },
  {
   "cell_type": "code",
   "execution_count": 14,
   "metadata": {},
   "outputs": [
    {
     "data": {
      "text/plain": [
       "1    12500\n",
       "0    12500\n",
       "Name: category, dtype: int64"
      ]
     },
     "execution_count": 14,
     "metadata": {},
     "output_type": "execute_result"
    }
   ],
   "source": [
    "df['category'].value_counts()"
   ]
  },
  {
   "cell_type": "markdown",
   "metadata": {},
   "source": [
    "As we can tell we have the same amount of cat images and dog images, 12500 images each."
   ]
  },
  {
   "cell_type": "markdown",
   "metadata": {},
   "source": [
    "Let's convert the images from RGB to grayscale and compress all images to 784 dimensions"
   ]
  },
  {
   "cell_type": "code",
   "execution_count": null,
   "metadata": {},
   "outputs": [],
   "source": [
    "for i in range(0,25000):\n",
    "    sample = filenames[i]\n",
    "    img = Image.open(r\"C:\\Users\\USER\\OneDrive\\שולחן העבודה\\DogsVsCats\\\\\"+sample)\n",
    "    imgGray = img.resize((28,28),Image.ANTIALIAS).convert('L')\n",
    "    imgGray.save(r\"C:\\Users\\USER\\OneDrive\\שולחן העבודה\\compressed images\\\\\"+sample)"
   ]
  },
  {
   "cell_type": "code",
   "execution_count": 4,
   "metadata": {},
   "outputs": [],
   "source": [
    "im = img.imread(r\"C:\\Users\\USER\\OneDrive\\שולחן העבודה\\compressed images\\\\\"+filenames[0])"
   ]
  },
  {
   "cell_type": "code",
   "execution_count": 5,
   "metadata": {},
   "outputs": [],
   "source": [
    "g = np.array(im)"
   ]
  },
  {
   "cell_type": "code",
   "execution_count": 6,
   "metadata": {},
   "outputs": [],
   "source": [
    "g=g.reshape(784)"
   ]
  },
  {
   "cell_type": "code",
   "execution_count": 7,
   "metadata": {},
   "outputs": [],
   "source": [
    "h = list()\n",
    "h.append(filenames[0])\n",
    "for i in g:\n",
    "    h.append(g[i])"
   ]
  },
  {
   "cell_type": "code",
   "execution_count": 8,
   "metadata": {},
   "outputs": [],
   "source": [
    "arr = list()\n",
    "arr.append(\"image name\")\n",
    "for i in range(1,785):\n",
    "    arr.append(\"pixel \" +str(i))"
   ]
  },
  {
   "cell_type": "code",
   "execution_count": 9,
   "metadata": {},
   "outputs": [],
   "source": [
    "f = pd.DataFrame(columns = arr)"
   ]
  },
  {
   "cell_type": "code",
   "execution_count": 10,
   "metadata": {},
   "outputs": [
    {
     "data": {
      "text/html": [
       "<div>\n",
       "<style scoped>\n",
       "    .dataframe tbody tr th:only-of-type {\n",
       "        vertical-align: middle;\n",
       "    }\n",
       "\n",
       "    .dataframe tbody tr th {\n",
       "        vertical-align: top;\n",
       "    }\n",
       "\n",
       "    .dataframe thead th {\n",
       "        text-align: right;\n",
       "    }\n",
       "</style>\n",
       "<table border=\"1\" class=\"dataframe\">\n",
       "  <thead>\n",
       "    <tr style=\"text-align: right;\">\n",
       "      <th></th>\n",
       "      <th>image name</th>\n",
       "      <th>pixel 1</th>\n",
       "      <th>pixel 2</th>\n",
       "      <th>pixel 3</th>\n",
       "      <th>pixel 4</th>\n",
       "      <th>pixel 5</th>\n",
       "      <th>pixel 6</th>\n",
       "      <th>pixel 7</th>\n",
       "      <th>pixel 8</th>\n",
       "      <th>pixel 9</th>\n",
       "      <th>...</th>\n",
       "      <th>pixel 775</th>\n",
       "      <th>pixel 776</th>\n",
       "      <th>pixel 777</th>\n",
       "      <th>pixel 778</th>\n",
       "      <th>pixel 779</th>\n",
       "      <th>pixel 780</th>\n",
       "      <th>pixel 781</th>\n",
       "      <th>pixel 782</th>\n",
       "      <th>pixel 783</th>\n",
       "      <th>pixel 784</th>\n",
       "    </tr>\n",
       "  </thead>\n",
       "  <tbody>\n",
       "  </tbody>\n",
       "</table>\n",
       "<p>0 rows × 785 columns</p>\n",
       "</div>"
      ],
      "text/plain": [
       "Empty DataFrame\n",
       "Columns: [image name, pixel 1, pixel 2, pixel 3, pixel 4, pixel 5, pixel 6, pixel 7, pixel 8, pixel 9, pixel 10, pixel 11, pixel 12, pixel 13, pixel 14, pixel 15, pixel 16, pixel 17, pixel 18, pixel 19, pixel 20, pixel 21, pixel 22, pixel 23, pixel 24, pixel 25, pixel 26, pixel 27, pixel 28, pixel 29, pixel 30, pixel 31, pixel 32, pixel 33, pixel 34, pixel 35, pixel 36, pixel 37, pixel 38, pixel 39, pixel 40, pixel 41, pixel 42, pixel 43, pixel 44, pixel 45, pixel 46, pixel 47, pixel 48, pixel 49, pixel 50, pixel 51, pixel 52, pixel 53, pixel 54, pixel 55, pixel 56, pixel 57, pixel 58, pixel 59, pixel 60, pixel 61, pixel 62, pixel 63, pixel 64, pixel 65, pixel 66, pixel 67, pixel 68, pixel 69, pixel 70, pixel 71, pixel 72, pixel 73, pixel 74, pixel 75, pixel 76, pixel 77, pixel 78, pixel 79, pixel 80, pixel 81, pixel 82, pixel 83, pixel 84, pixel 85, pixel 86, pixel 87, pixel 88, pixel 89, pixel 90, pixel 91, pixel 92, pixel 93, pixel 94, pixel 95, pixel 96, pixel 97, pixel 98, pixel 99, ...]\n",
       "Index: []\n",
       "\n",
       "[0 rows x 785 columns]"
      ]
     },
     "execution_count": 10,
     "metadata": {},
     "output_type": "execute_result"
    }
   ],
   "source": [
    "f"
   ]
  },
  {
   "cell_type": "code",
   "execution_count": 11,
   "metadata": {},
   "outputs": [],
   "source": [
    "for i in range(1,25000):\n",
    "    im = img.imread(r\"C:\\Users\\USER\\OneDrive\\שולחן העבודה\\compressed images\\\\\"+filenames[i])\n",
    "    g = np.array(im)\n",
    "    g=g.reshape(784)\n",
    "    h = list()\n",
    "    h.append(filenames[i])\n",
    "    for x in g:\n",
    "        h.append(g[x])\n",
    "    s = pd.DataFrame([h],columns = arr)\n",
    "    f = pd.concat([f, s], ignore_index = True, axis = 0)"
   ]
  },
  {
   "cell_type": "code",
   "execution_count": 15,
   "metadata": {},
   "outputs": [
    {
     "data": {
      "text/html": [
       "<div>\n",
       "<style scoped>\n",
       "    .dataframe tbody tr th:only-of-type {\n",
       "        vertical-align: middle;\n",
       "    }\n",
       "\n",
       "    .dataframe tbody tr th {\n",
       "        vertical-align: top;\n",
       "    }\n",
       "\n",
       "    .dataframe thead th {\n",
       "        text-align: right;\n",
       "    }\n",
       "</style>\n",
       "<table border=\"1\" class=\"dataframe\">\n",
       "  <thead>\n",
       "    <tr style=\"text-align: right;\">\n",
       "      <th></th>\n",
       "      <th>image name</th>\n",
       "      <th>pixel 1</th>\n",
       "      <th>pixel 2</th>\n",
       "      <th>pixel 3</th>\n",
       "      <th>pixel 4</th>\n",
       "      <th>pixel 5</th>\n",
       "      <th>pixel 6</th>\n",
       "      <th>pixel 7</th>\n",
       "      <th>pixel 8</th>\n",
       "      <th>pixel 9</th>\n",
       "      <th>...</th>\n",
       "      <th>pixel 775</th>\n",
       "      <th>pixel 776</th>\n",
       "      <th>pixel 777</th>\n",
       "      <th>pixel 778</th>\n",
       "      <th>pixel 779</th>\n",
       "      <th>pixel 780</th>\n",
       "      <th>pixel 781</th>\n",
       "      <th>pixel 782</th>\n",
       "      <th>pixel 783</th>\n",
       "      <th>pixel 784</th>\n",
       "    </tr>\n",
       "  </thead>\n",
       "  <tbody>\n",
       "    <tr>\n",
       "      <th>0</th>\n",
       "      <td>cat.1.jpg</td>\n",
       "      <td>84</td>\n",
       "      <td>81</td>\n",
       "      <td>85</td>\n",
       "      <td>123</td>\n",
       "      <td>120</td>\n",
       "      <td>86</td>\n",
       "      <td>84</td>\n",
       "      <td>126</td>\n",
       "      <td>83</td>\n",
       "      <td>...</td>\n",
       "      <td>82</td>\n",
       "      <td>50</td>\n",
       "      <td>85</td>\n",
       "      <td>124</td>\n",
       "      <td>80</td>\n",
       "      <td>84</td>\n",
       "      <td>143</td>\n",
       "      <td>42</td>\n",
       "      <td>54</td>\n",
       "      <td>54</td>\n",
       "    </tr>\n",
       "    <tr>\n",
       "      <th>1</th>\n",
       "      <td>cat.10.jpg</td>\n",
       "      <td>158</td>\n",
       "      <td>40</td>\n",
       "      <td>55</td>\n",
       "      <td>165</td>\n",
       "      <td>33</td>\n",
       "      <td>152</td>\n",
       "      <td>146</td>\n",
       "      <td>33</td>\n",
       "      <td>161</td>\n",
       "      <td>...</td>\n",
       "      <td>38</td>\n",
       "      <td>32</td>\n",
       "      <td>15</td>\n",
       "      <td>152</td>\n",
       "      <td>53</td>\n",
       "      <td>43</td>\n",
       "      <td>160</td>\n",
       "      <td>45</td>\n",
       "      <td>97</td>\n",
       "      <td>164</td>\n",
       "    </tr>\n",
       "    <tr>\n",
       "      <th>2</th>\n",
       "      <td>cat.100.jpg</td>\n",
       "      <td>222</td>\n",
       "      <td>183</td>\n",
       "      <td>222</td>\n",
       "      <td>174</td>\n",
       "      <td>74</td>\n",
       "      <td>211</td>\n",
       "      <td>227</td>\n",
       "      <td>211</td>\n",
       "      <td>235</td>\n",
       "      <td>...</td>\n",
       "      <td>251</td>\n",
       "      <td>172</td>\n",
       "      <td>255</td>\n",
       "      <td>115</td>\n",
       "      <td>231</td>\n",
       "      <td>86</td>\n",
       "      <td>102</td>\n",
       "      <td>109</td>\n",
       "      <td>110</td>\n",
       "      <td>102</td>\n",
       "    </tr>\n",
       "    <tr>\n",
       "      <th>3</th>\n",
       "      <td>cat.1000.jpg</td>\n",
       "      <td>131</td>\n",
       "      <td>90</td>\n",
       "      <td>134</td>\n",
       "      <td>155</td>\n",
       "      <td>31</td>\n",
       "      <td>96</td>\n",
       "      <td>208</td>\n",
       "      <td>113</td>\n",
       "      <td>36</td>\n",
       "      <td>...</td>\n",
       "      <td>136</td>\n",
       "      <td>90</td>\n",
       "      <td>69</td>\n",
       "      <td>90</td>\n",
       "      <td>90</td>\n",
       "      <td>90</td>\n",
       "      <td>123</td>\n",
       "      <td>88</td>\n",
       "      <td>115</td>\n",
       "      <td>109</td>\n",
       "    </tr>\n",
       "    <tr>\n",
       "      <th>4</th>\n",
       "      <td>cat.10000.jpg</td>\n",
       "      <td>111</td>\n",
       "      <td>121</td>\n",
       "      <td>27</td>\n",
       "      <td>8</td>\n",
       "      <td>5</td>\n",
       "      <td>6</td>\n",
       "      <td>5</td>\n",
       "      <td>5</td>\n",
       "      <td>85</td>\n",
       "      <td>...</td>\n",
       "      <td>11</td>\n",
       "      <td>14</td>\n",
       "      <td>117</td>\n",
       "      <td>4</td>\n",
       "      <td>73</td>\n",
       "      <td>73</td>\n",
       "      <td>69</td>\n",
       "      <td>59</td>\n",
       "      <td>32</td>\n",
       "      <td>14</td>\n",
       "    </tr>\n",
       "  </tbody>\n",
       "</table>\n",
       "<p>5 rows × 785 columns</p>\n",
       "</div>"
      ],
      "text/plain": [
       "      image name pixel 1 pixel 2 pixel 3 pixel 4 pixel 5 pixel 6 pixel 7  \\\n",
       "0      cat.1.jpg      84      81      85     123     120      86      84   \n",
       "1     cat.10.jpg     158      40      55     165      33     152     146   \n",
       "2    cat.100.jpg     222     183     222     174      74     211     227   \n",
       "3   cat.1000.jpg     131      90     134     155      31      96     208   \n",
       "4  cat.10000.jpg     111     121      27       8       5       6       5   \n",
       "\n",
       "  pixel 8 pixel 9  ... pixel 775 pixel 776 pixel 777 pixel 778 pixel 779  \\\n",
       "0     126      83  ...        82        50        85       124        80   \n",
       "1      33     161  ...        38        32        15       152        53   \n",
       "2     211     235  ...       251       172       255       115       231   \n",
       "3     113      36  ...       136        90        69        90        90   \n",
       "4       5      85  ...        11        14       117         4        73   \n",
       "\n",
       "  pixel 780 pixel 781 pixel 782 pixel 783 pixel 784  \n",
       "0        84       143        42        54        54  \n",
       "1        43       160        45        97       164  \n",
       "2        86       102       109       110       102  \n",
       "3        90       123        88       115       109  \n",
       "4        73        69        59        32        14  \n",
       "\n",
       "[5 rows x 785 columns]"
      ]
     },
     "execution_count": 15,
     "metadata": {},
     "output_type": "execute_result"
    }
   ],
   "source": [
    "f.head()"
   ]
  },
  {
   "cell_type": "markdown",
   "metadata": {},
   "source": [
    "**NICE !** <br>\n",
    "Now we have all the images sorted in a dataframe with their pixels."
   ]
  },
  {
   "cell_type": "code",
   "execution_count": 16,
   "metadata": {},
   "outputs": [],
   "source": [
    "f.insert(1, \"category\", df[\"category\"], True)"
   ]
  },
  {
   "cell_type": "code",
   "execution_count": 133,
   "metadata": {},
   "outputs": [
    {
     "data": {
      "text/html": [
       "<div>\n",
       "<style scoped>\n",
       "    .dataframe tbody tr th:only-of-type {\n",
       "        vertical-align: middle;\n",
       "    }\n",
       "\n",
       "    .dataframe tbody tr th {\n",
       "        vertical-align: top;\n",
       "    }\n",
       "\n",
       "    .dataframe thead th {\n",
       "        text-align: right;\n",
       "    }\n",
       "</style>\n",
       "<table border=\"1\" class=\"dataframe\">\n",
       "  <thead>\n",
       "    <tr style=\"text-align: right;\">\n",
       "      <th></th>\n",
       "      <th>image name</th>\n",
       "      <th>category</th>\n",
       "      <th>pixel 1</th>\n",
       "      <th>pixel 2</th>\n",
       "      <th>pixel 3</th>\n",
       "      <th>pixel 4</th>\n",
       "      <th>pixel 5</th>\n",
       "      <th>pixel 6</th>\n",
       "      <th>pixel 7</th>\n",
       "      <th>pixel 8</th>\n",
       "      <th>...</th>\n",
       "      <th>pixel 775</th>\n",
       "      <th>pixel 776</th>\n",
       "      <th>pixel 777</th>\n",
       "      <th>pixel 778</th>\n",
       "      <th>pixel 779</th>\n",
       "      <th>pixel 780</th>\n",
       "      <th>pixel 781</th>\n",
       "      <th>pixel 782</th>\n",
       "      <th>pixel 783</th>\n",
       "      <th>pixel 784</th>\n",
       "    </tr>\n",
       "  </thead>\n",
       "  <tbody>\n",
       "    <tr>\n",
       "      <th>0</th>\n",
       "      <td>cat.1.jpg</td>\n",
       "      <td>0</td>\n",
       "      <td>84</td>\n",
       "      <td>81</td>\n",
       "      <td>85</td>\n",
       "      <td>123</td>\n",
       "      <td>120</td>\n",
       "      <td>86</td>\n",
       "      <td>84</td>\n",
       "      <td>126</td>\n",
       "      <td>...</td>\n",
       "      <td>82</td>\n",
       "      <td>50</td>\n",
       "      <td>85</td>\n",
       "      <td>124</td>\n",
       "      <td>80</td>\n",
       "      <td>84</td>\n",
       "      <td>143</td>\n",
       "      <td>42</td>\n",
       "      <td>54</td>\n",
       "      <td>54</td>\n",
       "    </tr>\n",
       "    <tr>\n",
       "      <th>1</th>\n",
       "      <td>cat.10.jpg</td>\n",
       "      <td>0</td>\n",
       "      <td>158</td>\n",
       "      <td>40</td>\n",
       "      <td>55</td>\n",
       "      <td>165</td>\n",
       "      <td>33</td>\n",
       "      <td>152</td>\n",
       "      <td>146</td>\n",
       "      <td>33</td>\n",
       "      <td>...</td>\n",
       "      <td>38</td>\n",
       "      <td>32</td>\n",
       "      <td>15</td>\n",
       "      <td>152</td>\n",
       "      <td>53</td>\n",
       "      <td>43</td>\n",
       "      <td>160</td>\n",
       "      <td>45</td>\n",
       "      <td>97</td>\n",
       "      <td>164</td>\n",
       "    </tr>\n",
       "    <tr>\n",
       "      <th>2</th>\n",
       "      <td>cat.100.jpg</td>\n",
       "      <td>0</td>\n",
       "      <td>222</td>\n",
       "      <td>183</td>\n",
       "      <td>222</td>\n",
       "      <td>174</td>\n",
       "      <td>74</td>\n",
       "      <td>211</td>\n",
       "      <td>227</td>\n",
       "      <td>211</td>\n",
       "      <td>...</td>\n",
       "      <td>251</td>\n",
       "      <td>172</td>\n",
       "      <td>255</td>\n",
       "      <td>115</td>\n",
       "      <td>231</td>\n",
       "      <td>86</td>\n",
       "      <td>102</td>\n",
       "      <td>109</td>\n",
       "      <td>110</td>\n",
       "      <td>102</td>\n",
       "    </tr>\n",
       "    <tr>\n",
       "      <th>3</th>\n",
       "      <td>cat.1000.jpg</td>\n",
       "      <td>0</td>\n",
       "      <td>131</td>\n",
       "      <td>90</td>\n",
       "      <td>134</td>\n",
       "      <td>155</td>\n",
       "      <td>31</td>\n",
       "      <td>96</td>\n",
       "      <td>208</td>\n",
       "      <td>113</td>\n",
       "      <td>...</td>\n",
       "      <td>136</td>\n",
       "      <td>90</td>\n",
       "      <td>69</td>\n",
       "      <td>90</td>\n",
       "      <td>90</td>\n",
       "      <td>90</td>\n",
       "      <td>123</td>\n",
       "      <td>88</td>\n",
       "      <td>115</td>\n",
       "      <td>109</td>\n",
       "    </tr>\n",
       "    <tr>\n",
       "      <th>4</th>\n",
       "      <td>cat.10000.jpg</td>\n",
       "      <td>0</td>\n",
       "      <td>111</td>\n",
       "      <td>121</td>\n",
       "      <td>27</td>\n",
       "      <td>8</td>\n",
       "      <td>5</td>\n",
       "      <td>6</td>\n",
       "      <td>5</td>\n",
       "      <td>5</td>\n",
       "      <td>...</td>\n",
       "      <td>11</td>\n",
       "      <td>14</td>\n",
       "      <td>117</td>\n",
       "      <td>4</td>\n",
       "      <td>73</td>\n",
       "      <td>73</td>\n",
       "      <td>69</td>\n",
       "      <td>59</td>\n",
       "      <td>32</td>\n",
       "      <td>14</td>\n",
       "    </tr>\n",
       "  </tbody>\n",
       "</table>\n",
       "<p>5 rows × 786 columns</p>\n",
       "</div>"
      ],
      "text/plain": [
       "      image name  category pixel 1 pixel 2 pixel 3 pixel 4 pixel 5 pixel 6  \\\n",
       "0      cat.1.jpg         0      84      81      85     123     120      86   \n",
       "1     cat.10.jpg         0     158      40      55     165      33     152   \n",
       "2    cat.100.jpg         0     222     183     222     174      74     211   \n",
       "3   cat.1000.jpg         0     131      90     134     155      31      96   \n",
       "4  cat.10000.jpg         0     111     121      27       8       5       6   \n",
       "\n",
       "  pixel 7 pixel 8  ... pixel 775 pixel 776 pixel 777 pixel 778 pixel 779  \\\n",
       "0      84     126  ...        82        50        85       124        80   \n",
       "1     146      33  ...        38        32        15       152        53   \n",
       "2     227     211  ...       251       172       255       115       231   \n",
       "3     208     113  ...       136        90        69        90        90   \n",
       "4       5       5  ...        11        14       117         4        73   \n",
       "\n",
       "  pixel 780 pixel 781 pixel 782 pixel 783 pixel 784  \n",
       "0        84       143        42        54        54  \n",
       "1        43       160        45        97       164  \n",
       "2        86       102       109       110       102  \n",
       "3        90       123        88       115       109  \n",
       "4        73        69        59        32        14  \n",
       "\n",
       "[5 rows x 786 columns]"
      ]
     },
     "execution_count": 133,
     "metadata": {},
     "output_type": "execute_result"
    }
   ],
   "source": [
    "f.head()"
   ]
  },
  {
   "cell_type": "code",
   "execution_count": 134,
   "metadata": {},
   "outputs": [],
   "source": [
    "df1 = f.drop(columns=['image name'])"
   ]
  },
  {
   "cell_type": "code",
   "execution_count": 135,
   "metadata": {},
   "outputs": [],
   "source": [
    "df1 = df1.apply(pd.to_numeric)"
   ]
  },
  {
   "cell_type": "code",
   "execution_count": 136,
   "metadata": {},
   "outputs": [],
   "source": [
    "X = df1.drop(columns='category')"
   ]
  },
  {
   "cell_type": "code",
   "execution_count": 137,
   "metadata": {},
   "outputs": [],
   "source": [
    "Y = df1['category']"
   ]
  },
  {
   "cell_type": "code",
   "execution_count": 141,
   "metadata": {},
   "outputs": [],
   "source": [
    "X_train, X_test, y_train, y_test = train_test_split(X, Y, test_size=0.33, random_state=1)"
   ]
  },
  {
   "cell_type": "code",
   "execution_count": 142,
   "metadata": {},
   "outputs": [],
   "source": [
    "model = XGBClassifier()"
   ]
  },
  {
   "cell_type": "code",
   "execution_count": 143,
   "metadata": {},
   "outputs": [
    {
     "name": "stderr",
     "output_type": "stream",
     "text": [
      "C:\\Users\\USER\\anaconda3\\lib\\site-packages\\xgboost\\sklearn.py:1146: UserWarning: The use of label encoder in XGBClassifier is deprecated and will be removed in a future release. To remove this warning, do the following: 1) Pass option use_label_encoder=False when constructing XGBClassifier object; and 2) Encode your labels (y) as integers starting with 0, i.e. 0, 1, 2, ..., [num_class - 1].\n",
      "  warnings.warn(label_encoder_deprecation_msg, UserWarning)\n"
     ]
    },
    {
     "name": "stdout",
     "output_type": "stream",
     "text": [
      "[17:58:58] WARNING: C:/Users/Administrator/workspace/xgboost-win64_release_1.4.0/src/learner.cc:1095: Starting in XGBoost 1.3.0, the default evaluation metric used with the objective 'binary:logistic' was changed from 'error' to 'logloss'. Explicitly set eval_metric if you'd like to restore the old behavior.\n"
     ]
    },
    {
     "data": {
      "text/plain": [
       "XGBClassifier(base_score=0.5, booster='gbtree', colsample_bylevel=1,\n",
       "              colsample_bynode=1, colsample_bytree=1, gamma=0, gpu_id=-1,\n",
       "              importance_type='gain', interaction_constraints='',\n",
       "              learning_rate=0.300000012, max_delta_step=0, max_depth=6,\n",
       "              min_child_weight=1, missing=nan, monotone_constraints='()',\n",
       "              n_estimators=100, n_jobs=8, num_parallel_tree=1, random_state=0,\n",
       "              reg_alpha=0, reg_lambda=1, scale_pos_weight=1, subsample=1,\n",
       "              tree_method='exact', validate_parameters=1, verbosity=None)"
      ]
     },
     "execution_count": 143,
     "metadata": {},
     "output_type": "execute_result"
    }
   ],
   "source": [
    "model.fit(X_train, y_train)"
   ]
  },
  {
   "cell_type": "code",
   "execution_count": 144,
   "metadata": {},
   "outputs": [
    {
     "name": "stderr",
     "output_type": "stream",
     "text": [
      "C:\\Users\\USER\\anaconda3\\lib\\site-packages\\xgboost\\data.py:112: UserWarning: Use subset (sliced data) of np.ndarray is not recommended because it will generate extra copies and increase memory consumption\n",
      "  warnings.warn(\n"
     ]
    }
   ],
   "source": [
    "y_pred = model.predict(X_test)\n",
    "predictions = [round(value) for value in y_pred]"
   ]
  },
  {
   "cell_type": "code",
   "execution_count": 145,
   "metadata": {},
   "outputs": [
    {
     "name": "stdout",
     "output_type": "stream",
     "text": [
      "Accuracy: 53.13%\n"
     ]
    }
   ],
   "source": [
    "accuracy = accuracy_score(y_test, predictions)\n",
    "print(\"Accuracy: %.2f%%\" % (accuracy * 100.0))"
   ]
  },
  {
   "cell_type": "code",
   "execution_count": 117,
   "metadata": {},
   "outputs": [],
   "source": [
    "from sklearn.ensemble import RandomForestClassifier"
   ]
  },
  {
   "cell_type": "code",
   "execution_count": 139,
   "metadata": {},
   "outputs": [],
   "source": [
    "pca =PCA()\n",
    "pca.fit(X_train)\n",
    "cumsum = np.cumsum(pca.explained_variance_ratio_)\n",
    "d = np.argmax(cumsum >= 0.95)+1\n",
    "pca=PCA(n_components = 0.95)\n",
    "X_train = pca.fit_transform(X_train)\n",
    "X_test = pca.transform(X_test)"
   ]
  },
  {
   "cell_type": "code",
   "execution_count": 140,
   "metadata": {},
   "outputs": [
    {
     "name": "stdout",
     "output_type": "stream",
     "text": [
      "0.5202424242424243\n"
     ]
    }
   ],
   "source": [
    "rf =  RandomForestClassifier()\n",
    "rf.fit(X_train, y_train)\n",
    "rf_pred = rf.predict(X_test)\n",
    "print(accuracy_score(y_test, rf_pred))"
   ]
  },
  {
   "cell_type": "markdown",
   "metadata": {},
   "source": [
    "As we can tell applying PCA doesn't really change anything in here, we still got an accuracy of almost 0.53"
   ]
  }
 ],
 "metadata": {
  "kernelspec": {
   "display_name": "Python 3",
   "language": "python",
   "name": "python3"
  },
  "language_info": {
   "codemirror_mode": {
    "name": "ipython",
    "version": 3
   },
   "file_extension": ".py",
   "mimetype": "text/x-python",
   "name": "python",
   "nbconvert_exporter": "python",
   "pygments_lexer": "ipython3",
   "version": "3.8.3"
  }
 },
 "nbformat": 4,
 "nbformat_minor": 4
}
